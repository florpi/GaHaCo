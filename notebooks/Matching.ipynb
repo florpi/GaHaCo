{
 "cells": [
  {
   "cell_type": "code",
   "execution_count": 1,
   "metadata": {},
   "outputs": [],
   "source": [
    "import pandas as pd\n",
    "import numpy as np\n",
    "import matplotlib.pyplot as plt"
   ]
  },
  {
   "cell_type": "code",
   "execution_count": 3,
   "metadata": {},
   "outputs": [],
   "source": [
    "DATA_DIR = '/cosma7/data/dp004/dc-cues1/tng_dataframes/'\n",
    "HALO_MASS_CUT = 1.e11"
   ]
  },
  {
   "cell_type": "code",
   "execution_count": 4,
   "metadata": {},
   "outputs": [],
   "source": [
    "merge_df = pd.read_hdf(DATA_DIR + 'TNG300Dark_Hydro_MergerTree.hdf5')\n",
    "dark_df = pd.read_hdf(DATA_DIR + 'TNG300dark_subfind.hdf5')\n",
    "hdyro_df = pd.read_hdf(DATA_DIR + 'TNG300hydro_subfind.hdf5')"
   ]
  },
  {
   "cell_type": "code",
   "execution_count": 5,
   "metadata": {},
   "outputs": [],
   "source": [
    "merge_df = merge_df.loc[merge_df['M200_HYDRO'] > HALO_MASS_CUT]"
   ]
  },
  {
   "cell_type": "code",
   "execution_count": 6,
   "metadata": {},
   "outputs": [],
   "source": [
    "matched_df = pd.merge(merge_df, dark_df, on = ['ID_DMO'], how = 'inner')"
   ]
  },
  {
   "cell_type": "code",
   "execution_count": 7,
   "metadata": {},
   "outputs": [],
   "source": [
    "full_df = pd.merge(matched_df, hdyro_df, on = ['ID_HYDRO'], how = 'inner',suffixes=('_dmo', '_hydro'))"
   ]
  },
  {
   "cell_type": "code",
   "execution_count": 8,
   "metadata": {},
   "outputs": [
    {
     "ename": "IndentationError",
     "evalue": "unexpected indent (<ipython-input-8-d540db2f8d87>, line 5)",
     "output_type": "error",
     "traceback": [
      "\u001b[0;36m  File \u001b[0;32m\"<ipython-input-8-d540db2f8d87>\"\u001b[0;36m, line \u001b[0;32m5\u001b[0m\n\u001b[0;31m    bounds = boxsize * np.ones(3)\u001b[0m\n\u001b[0m    ^\u001b[0m\n\u001b[0;31mIndentationError\u001b[0m\u001b[0;31m:\u001b[0m unexpected indent\n"
     ]
    }
   ],
   "source": [
    "def periodic_distance(df, boxsize: float) -> np.array:\n",
    "    a = np.array([df['x_dmo'], df['y_dmo'], df['z_dmo']])\n",
    "    b = np.array([df['x_hydro'], df['y_hydro'], df['z_hydro']])\n",
    "s\n",
    "    bounds = boxsize * np.ones(3)\n",
    "    min_dists = np.min(np.dstack(((a - b) % bounds, (b - a) % bounds)), axis=2)\n",
    "    dists = np.sqrt(np.sum(min_dists ** 2, axis=1))\n",
    "    return dists[0]"
   ]
  },
  {
   "cell_type": "code",
   "execution_count": null,
   "metadata": {},
   "outputs": [],
   "source": [
    "full_df['displacement'] = full_df.apply(lambda x: periodic_distance(x, 300.), axis=1)\n"
   ]
  },
  {
   "cell_type": "code",
   "execution_count": null,
   "metadata": {},
   "outputs": [],
   "source": [
    "one2one = full_df.drop_duplicates(subset='ID_DMO')\n"
   ]
  },
  {
   "cell_type": "code",
   "execution_count": null,
   "metadata": {},
   "outputs": [],
   "source": [
    "len(one2one)"
   ]
  },
  {
   "cell_type": "code",
   "execution_count": null,
   "metadata": {},
   "outputs": [],
   "source": [
    "plt.hist(full_df['displacement'], log=True,alpha=0.3, label='1-Many')\n",
    "plt.hist(one2one['displacement'], log=True, alpha=0.3, label='1-1')\n",
    "plt.xlabel('Displacement DMO to HYDRO')\n",
    "plt.ylabel('Number of halos')\n",
    "plt.legend()"
   ]
  },
  {
   "cell_type": "markdown",
   "metadata": {},
   "source": [
    "# Stellar Mass after thresholding"
   ]
  },
  {
   "cell_type": "code",
   "execution_count": 11,
   "metadata": {},
   "outputs": [],
   "source": [
    "df_1 = pd.read_hdf(DATA_DIR + 'merged_dataframe_v2_threshold_1.h5')\n",
    "df_4 = pd.read_hdf(DATA_DIR + 'merged_dataframe_v2_threshold_4.h5')\n"
   ]
  },
  {
   "cell_type": "code",
   "execution_count": 12,
   "metadata": {},
   "outputs": [
    {
     "data": {
      "text/plain": [
       "Index(['ID_DMO', 'm2500c', 'vrms_2500c', 'vrms_std_2500c', 'beta2500c',\n",
       "       'concentration_prada', 'concentration_nfw', 'rho_s', 'chisq_nfw',\n",
       "       'vrms_200c', 'vrms_std_200c', 'beta200c', 'N_subhalos',\n",
       "       'Group_R_Crit200', 'VelDisp', 'Vmax', 'Spin', 'fsub_unbound',\n",
       "       'x_offset', 'HalfmassRad', 'MassInMaxRad', 'env_5', 'env_10', 'x_dmo',\n",
       "       'y_dmo', 'z_dmo', 'ID_HYDRO', 'M200_DMO', 'M200_HYDRO',\n",
       "       'Formation Time', 'Nmergers', 'MassPeak', 'vpeak', 'total_M_stars',\n",
       "       'x_hydro', 'y_hydro', 'z_hydro', 'displacement', 'N_gals',\n",
       "       'M_stars_central'],\n",
       "      dtype='object')"
      ]
     },
     "execution_count": 12,
     "metadata": {},
     "output_type": "execute_result"
    }
   ],
   "source": [
    "df_1.columns"
   ]
  },
  {
   "cell_type": "code",
   "execution_count": 10,
   "metadata": {},
   "outputs": [
    {
     "data": {
      "text/plain": [
       "<matplotlib.legend.Legend at 0x7f6ea1592128>"
      ]
     },
     "execution_count": 10,
     "metadata": {},
     "output_type": "execute_result"
    },
    {
     "data": {
      "image/png": "[encoded data removed]",
      "text/plain": [
       "<Figure size 432x288 with 1 Axes>"
      ]
     },
     "metadata": {},
     "output_type": "display_data"
    }
   ],
   "source": [
    "#.loglog(full_df.M200_DMO, full_df.M_stars_central,\n",
    "#          linestyle='', marker='o', markersize=2)\n",
    "plt.loglog(df_1.M200_DMO, df_1.M_stars_central,\n",
    "          linestyle='', marker='o', markersize=2,\n",
    "           alpha=0.2, label = 'd<1')\n",
    "plt.loglog(df_4.M200_DMO, df_4.M_stars_central,\n",
    "          linestyle='', marker='o', markersize=2, \n",
    "           alpha=0.4, label='d < 4')\n",
    "plt.legend()"
   ]
  },
  {
   "cell_type": "code",
   "execution_count": null,
   "metadata": {},
   "outputs": [],
   "source": []
  }
 ],
 "metadata": {
  "kernelspec": {
   "display_name": "Python 3",
   "language": "python",
   "name": "python3"
  },
  "language_info": {
   "codemirror_mode": {
    "name": "ipython",
    "version": 3
   },
   "file_extension": ".py",
   "mimetype": "text/x-python",
   "name": "python",
   "nbconvert_exporter": "python",
   "pygments_lexer": "ipython3",
   "version": "3.6.5"
  }
 },
 "nbformat": 4,
 "nbformat_minor": 2
}

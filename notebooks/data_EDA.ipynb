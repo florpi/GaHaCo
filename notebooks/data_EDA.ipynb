{
 "cells": [
  {
   "cell_type": "code",
   "execution_count": 2,
   "metadata": {},
   "outputs": [],
   "source": [
    "import pandas as pd\n",
    "import h5py\n",
    "import numpy as np\n",
    "import matplotlib.pyplot as plt\n",
    "from scipy.stats import binned_statistic\n",
    "\n",
    "from gahaco.visualization import halo_mass_function as hmf"
   ]
  },
  {
   "cell_type": "code",
   "execution_count": 3,
   "metadata": {},
   "outputs": [],
   "source": [
    "DATA_PATH = '/cosma5/data/dp004/hvrn44/HOD/'\n",
    "HALO_MASS_CUT = 1.e11 #solar masses"
   ]
  },
  {
   "cell_type": "markdown",
   "metadata": {},
   "source": [
    "## Matching halos in the DMO and HYDRO simulations"
   ]
  },
  {
   "cell_type": "code",
   "execution_count": 4,
   "metadata": {},
   "outputs": [],
   "source": [
    "matching_df = pd.read_csv(DATA_PATH + 'MatchedHaloes_L205n2500.dat',\n",
    "                         delimiter = ' ', skiprows = 1,\n",
    "        names = ['ID_DMO', 'ID_HYDRO', 'M200_DMO', 'M200_HYDRO'])"
   ]
  },
  {
   "cell_type": "code",
   "execution_count": 41,
   "metadata": {},
   "outputs": [
    {
     "data": {
      "text/html": [
       "<div>\n",
       "<style scoped>\n",
       "    .dataframe tbody tr th:only-of-type {\n",
       "        vertical-align: middle;\n",
       "    }\n",
       "\n",
       "    .dataframe tbody tr th {\n",
       "        vertical-align: top;\n",
       "    }\n",
       "\n",
       "    .dataframe thead th {\n",
       "        text-align: right;\n",
       "    }\n",
       "</style>\n",
       "<table border=\"1\" class=\"dataframe\">\n",
       "  <thead>\n",
       "    <tr style=\"text-align: right;\">\n",
       "      <th></th>\n",
       "      <th>ID_DMO</th>\n",
       "      <th>ID_HYDRO</th>\n",
       "      <th>M200_DMO</th>\n",
       "      <th>M200_HYDRO</th>\n",
       "    </tr>\n",
       "  </thead>\n",
       "  <tbody>\n",
       "    <tr>\n",
       "      <td>0</td>\n",
       "      <td>0</td>\n",
       "      <td>0</td>\n",
       "      <td>1.021000e+15</td>\n",
       "      <td>1.040000e+15</td>\n",
       "    </tr>\n",
       "    <tr>\n",
       "      <td>1</td>\n",
       "      <td>1</td>\n",
       "      <td>1</td>\n",
       "      <td>8.764000e+14</td>\n",
       "      <td>8.856000e+14</td>\n",
       "    </tr>\n",
       "    <tr>\n",
       "      <td>2</td>\n",
       "      <td>2</td>\n",
       "      <td>2</td>\n",
       "      <td>6.446000e+14</td>\n",
       "      <td>7.000000e+14</td>\n",
       "    </tr>\n",
       "    <tr>\n",
       "      <td>3</td>\n",
       "      <td>3</td>\n",
       "      <td>3</td>\n",
       "      <td>5.923000e+14</td>\n",
       "      <td>6.094000e+14</td>\n",
       "    </tr>\n",
       "    <tr>\n",
       "      <td>4</td>\n",
       "      <td>4</td>\n",
       "      <td>4</td>\n",
       "      <td>5.618000e+14</td>\n",
       "      <td>5.702000e+14</td>\n",
       "    </tr>\n",
       "    <tr>\n",
       "      <td>...</td>\n",
       "      <td>...</td>\n",
       "      <td>...</td>\n",
       "      <td>...</td>\n",
       "      <td>...</td>\n",
       "    </tr>\n",
       "    <tr>\n",
       "      <td>507535</td>\n",
       "      <td>233452</td>\n",
       "      <td>17621455</td>\n",
       "      <td>1.074000e+11</td>\n",
       "      <td>1.121000e+09</td>\n",
       "    </tr>\n",
       "    <tr>\n",
       "      <td>507536</td>\n",
       "      <td>64861</td>\n",
       "      <td>17622524</td>\n",
       "      <td>4.568000e+11</td>\n",
       "      <td>4.780000e+08</td>\n",
       "    </tr>\n",
       "    <tr>\n",
       "      <td>507537</td>\n",
       "      <td>106353</td>\n",
       "      <td>17622884</td>\n",
       "      <td>2.592000e+11</td>\n",
       "      <td>7.641000e+08</td>\n",
       "    </tr>\n",
       "    <tr>\n",
       "      <td>507538</td>\n",
       "      <td>39555</td>\n",
       "      <td>17623990</td>\n",
       "      <td>6.809000e+11</td>\n",
       "      <td>6.064000e+08</td>\n",
       "    </tr>\n",
       "    <tr>\n",
       "      <td>507539</td>\n",
       "      <td>35842</td>\n",
       "      <td>17625655</td>\n",
       "      <td>4.981000e+11</td>\n",
       "      <td>9.959000e+08</td>\n",
       "    </tr>\n",
       "  </tbody>\n",
       "</table>\n",
       "<p>507540 rows × 4 columns</p>\n",
       "</div>"
      ],
      "text/plain": [
       "        ID_DMO  ID_HYDRO      M200_DMO    M200_HYDRO\n",
       "0            0         0  1.021000e+15  1.040000e+15\n",
       "1            1         1  8.764000e+14  8.856000e+14\n",
       "2            2         2  6.446000e+14  7.000000e+14\n",
       "3            3         3  5.923000e+14  6.094000e+14\n",
       "4            4         4  5.618000e+14  5.702000e+14\n",
       "...        ...       ...           ...           ...\n",
       "507535  233452  17621455  1.074000e+11  1.121000e+09\n",
       "507536   64861  17622524  4.568000e+11  4.780000e+08\n",
       "507537  106353  17622884  2.592000e+11  7.641000e+08\n",
       "507538   39555  17623990  6.809000e+11  6.064000e+08\n",
       "507539   35842  17625655  4.981000e+11  9.959000e+08\n",
       "\n",
       "[507540 rows x 4 columns]"
      ]
     },
     "execution_count": 41,
     "metadata": {},
     "output_type": "execute_result"
    }
   ],
   "source": [
    "matching_df"
   ]
  },
  {
   "cell_type": "code",
   "execution_count": 6,
   "metadata": {},
   "outputs": [
    {
     "data": {
      "image/png": "[encoded data removed]",
      "text/plain": [
       "<Figure size 432x288 with 1 Axes>"
      ]
     },
     "metadata": {},
     "output_type": "display_data"
    }
   ],
   "source": [
    "hmf.plot_halo_mass_function(matching_df.drop_duplicates(subset = 'ID_DMO')['M200_DMO'])\n"
   ]
  },
  {
   "cell_type": "code",
   "execution_count": 7,
   "metadata": {},
   "outputs": [
    {
     "data": {
      "image/png": "[encoded data removed]",
      "text/plain": [
       "<Figure size 432x288 with 1 Axes>"
      ]
     },
     "metadata": {},
     "output_type": "display_data"
    }
   ],
   "source": [
    "hmf.plot_halo_mass_function(matching_df['M200_HYDRO'])"
   ]
  },
  {
   "cell_type": "code",
   "execution_count": 8,
   "metadata": {},
   "outputs": [
    {
     "name": "stdout",
     "output_type": "stream",
     "text": [
      "There are 228051 unique haloes in the Dark matter only simulation\n",
      "There are 507540 haloes in the hydro simulation\n"
     ]
    }
   ],
   "source": [
    "print(f'There are {len(np.unique(matching_df.ID_DMO))} unique haloes in the Dark matter only simulation')\n",
    "print(f'There are {len(np.unique(matching_df.ID_HYDRO))} haloes in the hydro simulation')"
   ]
  },
  {
   "cell_type": "markdown",
   "metadata": {},
   "source": [
    "## Halo mass cut on the DMO ones"
   ]
  },
  {
   "cell_type": "code",
   "execution_count": 9,
   "metadata": {},
   "outputs": [],
   "source": [
    "mass_matching_df = matching_df.loc[matching_df['M200_HYDRO'] > HALO_MASS_CUT]"
   ]
  },
  {
   "cell_type": "code",
   "execution_count": 10,
   "metadata": {},
   "outputs": [
    {
     "name": "stdout",
     "output_type": "stream",
     "text": [
      "There are 207006 unique haloes above 1.0E+11 solar masses in the Dark matter only simulation\n"
     ]
    }
   ],
   "source": [
    "print(f'There are {len(np.unique(mass_matching_df.ID_DMO))} unique haloes above {HALO_MASS_CUT:.1E}'\n",
    "      ' solar masses in the Dark matter only simulation')"
   ]
  },
  {
   "cell_type": "code",
   "execution_count": 11,
   "metadata": {},
   "outputs": [
    {
     "name": "stdout",
     "output_type": "stream",
     "text": [
      "There are 211124 unique haloes above 1.0E+11 solar masses in the Hydro simulation\n"
     ]
    }
   ],
   "source": [
    "print(f'There are {len(np.unique(mass_matching_df.ID_HYDRO))} unique haloes above {HALO_MASS_CUT:.1E}'\n",
    "      ' solar masses in the Hydro simulation')"
   ]
  },
  {
   "cell_type": "code",
   "execution_count": 12,
   "metadata": {},
   "outputs": [],
   "source": [
    "# keep only unique matchings\n",
    "\n",
    "idx, count = np.unique(mass_matching_df.ID_DMO, return_counts=True)"
   ]
  },
  {
   "cell_type": "code",
   "execution_count": 13,
   "metadata": {},
   "outputs": [
    {
     "data": {
      "text/plain": [
       "Text(0.5,0,'Number of hydro haloes matched to the same DMO halo')"
      ]
     },
     "execution_count": 13,
     "metadata": {},
     "output_type": "execute_result"
    },
    {
     "data": {
      "image/png": "[encoded data removed]",
      "text/plain": [
       "<Figure size 432x288 with 1 Axes>"
      ]
     },
     "metadata": {},
     "output_type": "display_data"
    }
   ],
   "source": [
    "plt.hist(count, log = True)\n",
    "plt.xlabel('Number of hydro haloes matched to the same DMO halo')"
   ]
  },
  {
   "cell_type": "code",
   "execution_count": 14,
   "metadata": {},
   "outputs": [],
   "source": [
    "#unique_dmo_idx = idx[count == 1]\n",
    "#unique_matching_df = mass_matching_df.loc[mass_matching_df.ID_DMO.isin(unique_dmo_idx)]"
   ]
  },
  {
   "cell_type": "markdown",
   "metadata": {},
   "source": [
    "## Adding some halo properties from DMO sims"
   ]
  },
  {
   "cell_type": "code",
   "execution_count": 15,
   "metadata": {},
   "outputs": [
    {
     "name": "stdout",
     "output_type": "stream",
     "text": [
      "['BetaDM', 'BetaTot', 'Cnfw', 'CoP', 'DMDenProfile', 'DMMassProfile', 'DMVelProfile', 'GammaDM', 'GammaTot', 'GasDenProfile', 'GasMassProfile', 'GasVelProfile', 'GroupNumber', 'HaloMassDM', 'HaloMassGas', 'HaloMassStar', 'HaloMassTot', 'LessRR200', 'LessRadius', 'LessTexp', 'M200', 'Nsubs', 'NumPartsBH', 'NumPartsDM', 'NumPartsGas', 'NumPartsStar', 'PLIndex', 'R200', 'RR200', 'R_Conv', 'Radius', 'Rhosnfw', 'Rmax', 'Spin', 'StarDenProfile', 'StarMassProfile', 'StarVelProfile', 'SubCumSFH', 'SubSFR', 'Texp', 'TotDenProfile', 'TotMassProfile', 'TotVelProfile', 'Vmax', 'doff', 'fsub']\n"
     ]
    }
   ],
   "source": [
    "with h5py.File(DATA_PATH + 'HaloProfiles_DMO_z0.00_ext.hdf5', 'r') as hf:\n",
    "   \n",
    "    dm_den_profile = hf['Haloes']['DMDenProfile'][:]\n",
    "\n",
    "    dm_mass_profile = hf['Haloes']['DMMassProfile'][:]\n",
    "    dm_vel_profile = hf['Haloes']['DMVelProfile'][:]"
   ]
  },
  {
   "cell_type": "code",
   "execution_count": 20,
   "metadata": {},
   "outputs": [],
   "source": [
    "with h5py.File(DATA_PATH + 'HaloProfiles_DMO_z0.00_ext.hdf5', 'r') as hf:\n",
    "        \n",
    "       \n",
    "    mass = hf['Haloes']['M200'][:]\n",
    "    vmax = hf['Haloes']['Vmax'][:]\n",
    "    rmax = hf['Haloes']['Rmax'][:]\n",
    "    r200c = hf['Haloes']['R200'][:]\n",
    "    cnfw = hf['Haloes']['Cnfw'][:]\n",
    "    rhosnfw = hf['Haloes']['Rhosnfw'][:]\n",
    "\n",
    "    massprofile = hf['Haloes']['DMMassProfile'][:]\n",
    "\n",
    "    parametrized_cnfw = vmax/(rmax * 70)\n",
    "\n",
    "    properties_ids = hf['Haloes']['GroupNumber'][:]"
   ]
  },
  {
   "cell_type": "code",
   "execution_count": 21,
   "metadata": {},
   "outputs": [],
   "source": [
    "properties = np.vstack([properties_ids,mass, vmax, rmax,\n",
    "                                     r200c, cnfw, rhosnfw]).T"
   ]
  },
  {
   "cell_type": "code",
   "execution_count": 22,
   "metadata": {},
   "outputs": [],
   "source": [
    "idx, count = np.unique(mass_matching_df.ID_DMO, return_counts=True)\n",
    "\n",
    "properties_df = pd.DataFrame(data = properties,\n",
    "                             columns = ['ID_DMO', 'M200c', 'Vmax', 'Rmax', \n",
    "                                        'R200c', 'Cnfw', 'Rhosnfw'])"
   ]
  },
  {
   "cell_type": "code",
   "execution_count": 23,
   "metadata": {},
   "outputs": [
    {
     "data": {
      "text/html": [
       "<div>\n",
       "<style scoped>\n",
       "    .dataframe tbody tr th:only-of-type {\n",
       "        vertical-align: middle;\n",
       "    }\n",
       "\n",
       "    .dataframe tbody tr th {\n",
       "        vertical-align: top;\n",
       "    }\n",
       "\n",
       "    .dataframe thead th {\n",
       "        text-align: right;\n",
       "    }\n",
       "</style>\n",
       "<table border=\"1\" class=\"dataframe\">\n",
       "  <thead>\n",
       "    <tr style=\"text-align: right;\">\n",
       "      <th></th>\n",
       "      <th>ID_DMO</th>\n",
       "      <th>M200c</th>\n",
       "      <th>Vmax</th>\n",
       "      <th>Rmax</th>\n",
       "      <th>R200c</th>\n",
       "      <th>Cnfw</th>\n",
       "      <th>Rhosnfw</th>\n",
       "    </tr>\n",
       "  </thead>\n",
       "  <tbody>\n",
       "    <tr>\n",
       "      <td>0</td>\n",
       "      <td>0.0</td>\n",
       "      <td>1.021094e+15</td>\n",
       "      <td>1720.320608</td>\n",
       "      <td>1.017927</td>\n",
       "      <td>1637.737427</td>\n",
       "      <td>5.698943e+00</td>\n",
       "      <td>3.148591e+06</td>\n",
       "    </tr>\n",
       "    <tr>\n",
       "      <td>1</td>\n",
       "      <td>1.0</td>\n",
       "      <td>8.763998e+14</td>\n",
       "      <td>1626.658679</td>\n",
       "      <td>1.095801</td>\n",
       "      <td>1556.385864</td>\n",
       "      <td>4.528827e+00</td>\n",
       "      <td>1.890909e+06</td>\n",
       "    </tr>\n",
       "    <tr>\n",
       "      <td>2</td>\n",
       "      <td>2.0</td>\n",
       "      <td>6.445536e+14</td>\n",
       "      <td>1435.573084</td>\n",
       "      <td>0.915569</td>\n",
       "      <td>1404.871216</td>\n",
       "      <td>5.604312e+00</td>\n",
       "      <td>2.870591e+06</td>\n",
       "    </tr>\n",
       "    <tr>\n",
       "      <td>3</td>\n",
       "      <td>3.0</td>\n",
       "      <td>5.922584e+14</td>\n",
       "      <td>1418.062988</td>\n",
       "      <td>0.788401</td>\n",
       "      <td>1365.790283</td>\n",
       "      <td>4.750148e+00</td>\n",
       "      <td>2.012141e+06</td>\n",
       "    </tr>\n",
       "    <tr>\n",
       "      <td>4</td>\n",
       "      <td>4.0</td>\n",
       "      <td>5.617762e+14</td>\n",
       "      <td>1398.909960</td>\n",
       "      <td>0.767208</td>\n",
       "      <td>1341.978027</td>\n",
       "      <td>5.069929e+00</td>\n",
       "      <td>2.391334e+06</td>\n",
       "    </tr>\n",
       "    <tr>\n",
       "      <td>...</td>\n",
       "      <td>...</td>\n",
       "      <td>...</td>\n",
       "      <td>...</td>\n",
       "      <td>...</td>\n",
       "      <td>...</td>\n",
       "      <td>...</td>\n",
       "      <td>...</td>\n",
       "    </tr>\n",
       "    <tr>\n",
       "      <td>229260</td>\n",
       "      <td>278079.0</td>\n",
       "      <td>1.007831e+11</td>\n",
       "      <td>103.223734</td>\n",
       "      <td>0.014772</td>\n",
       "      <td>75.686066</td>\n",
       "      <td>5.608999e+01</td>\n",
       "      <td>1.312776e+09</td>\n",
       "    </tr>\n",
       "    <tr>\n",
       "      <td>229261</td>\n",
       "      <td>278541.0</td>\n",
       "      <td>1.001213e+11</td>\n",
       "      <td>109.084942</td>\n",
       "      <td>0.011484</td>\n",
       "      <td>75.523170</td>\n",
       "      <td>7.382515e+01</td>\n",
       "      <td>2.832885e+09</td>\n",
       "    </tr>\n",
       "    <tr>\n",
       "      <td>229262</td>\n",
       "      <td>279423.0</td>\n",
       "      <td>1.003104e+11</td>\n",
       "      <td>108.027972</td>\n",
       "      <td>0.012738</td>\n",
       "      <td>75.567726</td>\n",
       "      <td>5.663748e+01</td>\n",
       "      <td>1.331717e+09</td>\n",
       "    </tr>\n",
       "    <tr>\n",
       "      <td>229263</td>\n",
       "      <td>279745.0</td>\n",
       "      <td>1.006413e+11</td>\n",
       "      <td>117.696697</td>\n",
       "      <td>0.012200</td>\n",
       "      <td>75.648079</td>\n",
       "      <td>3.588773e+07</td>\n",
       "      <td>2.795470e+26</td>\n",
       "    </tr>\n",
       "    <tr>\n",
       "      <td>229264</td>\n",
       "      <td>280987.0</td>\n",
       "      <td>1.000741e+11</td>\n",
       "      <td>108.866826</td>\n",
       "      <td>0.014430</td>\n",
       "      <td>75.510895</td>\n",
       "      <td>1.792922e+07</td>\n",
       "      <td>3.687706e+25</td>\n",
       "    </tr>\n",
       "  </tbody>\n",
       "</table>\n",
       "<p>229265 rows × 7 columns</p>\n",
       "</div>"
      ],
      "text/plain": [
       "          ID_DMO         M200c         Vmax      Rmax        R200c  \\\n",
       "0            0.0  1.021094e+15  1720.320608  1.017927  1637.737427   \n",
       "1            1.0  8.763998e+14  1626.658679  1.095801  1556.385864   \n",
       "2            2.0  6.445536e+14  1435.573084  0.915569  1404.871216   \n",
       "3            3.0  5.922584e+14  1418.062988  0.788401  1365.790283   \n",
       "4            4.0  5.617762e+14  1398.909960  0.767208  1341.978027   \n",
       "...          ...           ...          ...       ...          ...   \n",
       "229260  278079.0  1.007831e+11   103.223734  0.014772    75.686066   \n",
       "229261  278541.0  1.001213e+11   109.084942  0.011484    75.523170   \n",
       "229262  279423.0  1.003104e+11   108.027972  0.012738    75.567726   \n",
       "229263  279745.0  1.006413e+11   117.696697  0.012200    75.648079   \n",
       "229264  280987.0  1.000741e+11   108.866826  0.014430    75.510895   \n",
       "\n",
       "                Cnfw       Rhosnfw  \n",
       "0       5.698943e+00  3.148591e+06  \n",
       "1       4.528827e+00  1.890909e+06  \n",
       "2       5.604312e+00  2.870591e+06  \n",
       "3       4.750148e+00  2.012141e+06  \n",
       "4       5.069929e+00  2.391334e+06  \n",
       "...              ...           ...  \n",
       "229260  5.608999e+01  1.312776e+09  \n",
       "229261  7.382515e+01  2.832885e+09  \n",
       "229262  5.663748e+01  1.331717e+09  \n",
       "229263  3.588773e+07  2.795470e+26  \n",
       "229264  1.792922e+07  3.687706e+25  \n",
       "\n",
       "[229265 rows x 7 columns]"
      ]
     },
     "execution_count": 23,
     "metadata": {},
     "output_type": "execute_result"
    }
   ],
   "source": [
    "properties_df"
   ]
  },
  {
   "cell_type": "code",
   "execution_count": 91,
   "metadata": {},
   "outputs": [],
   "source": [
    "our_concentrations = pd.read_hdf(tng_path + 'halo_profiles.hdf5')"
   ]
  },
  {
   "cell_type": "code",
   "execution_count": 93,
   "metadata": {},
   "outputs": [
    {
     "data": {
      "text/plain": [
       "Index(['ID_DMO', 'concentration_prada', 'concentration_nfw', 'rho_s',\n",
       "       'chisq_nfw', 'm200c'],\n",
       "      dtype='object')"
      ]
     },
     "execution_count": 93,
     "metadata": {},
     "output_type": "execute_result"
    }
   ],
   "source": [
    "our_concentrations.columns"
   ]
  },
  {
   "cell_type": "code",
   "execution_count": 44,
   "metadata": {},
   "outputs": [],
   "source": [
    "test = pd.merge(properties_df, our_concentrations, on='ID_DMO')"
   ]
  },
  {
   "cell_type": "code",
   "execution_count": 52,
   "metadata": {},
   "outputs": [],
   "source": [
    "test_valid = test[(test.concentration > 0.) & (test.concentration < 20.)]"
   ]
  },
  {
   "cell_type": "code",
   "execution_count": 64,
   "metadata": {},
   "outputs": [],
   "source": [
    "test_valid_ = test[(test.Cnfw > 0.1) & (test.Cnfw < 20.)]"
   ]
  },
  {
   "cell_type": "code",
   "execution_count": 68,
   "metadata": {},
   "outputs": [
    {
     "data": {
      "text/plain": [
       "[<matplotlib.lines.Line2D at 0x7f6592dde2b0>]"
      ]
     },
     "execution_count": 68,
     "metadata": {},
     "output_type": "execute_result"
    },
    {
     "data": {
      "image/png": "[encoded data removed]",
      "text/plain": [
       "<Figure size 432x288 with 1 Axes>"
      ]
     },
     "metadata": {},
     "output_type": "display_data"
    }
   ],
   "source": [
    "plt.loglog(test_valid.M200c, test_valid.concentration, marker='o',\n",
    "          markersize = 2, linestyle = '')\n",
    "\n",
    "plt.loglog(test_valid_.M200c, test_valid_.Cnfw, marker='o',\n",
    "          markersize = 2, linestyle = '', alpha = 0.2)\n",
    "\n",
    "plt.loglog(test_valid.M200c, test_valid.prada_c, marker='o',\n",
    "          markersize = 2, linestyle = '', alpha = 0.2)"
   ]
  },
  {
   "cell_type": "code",
   "execution_count": 69,
   "metadata": {},
   "outputs": [
    {
     "data": {
      "text/plain": [
       "130384"
      ]
     },
     "execution_count": 69,
     "metadata": {},
     "output_type": "execute_result"
    }
   ],
   "source": [
    "len(test_valid)"
   ]
  },
  {
   "cell_type": "code",
   "execution_count": 70,
   "metadata": {},
   "outputs": [
    {
     "data": {
      "text/plain": [
       "226147"
      ]
     },
     "execution_count": 70,
     "metadata": {},
     "output_type": "execute_result"
    }
   ],
   "source": [
    "len(test_valid_)"
   ]
  },
  {
   "cell_type": "code",
   "execution_count": 24,
   "metadata": {},
   "outputs": [],
   "source": [
    "merged_matching_df = pd.merge(mass_matching_df, properties_df, on = ['ID_DMO'], how = 'inner')\n"
   ]
  },
  {
   "cell_type": "markdown",
   "metadata": {},
   "source": [
    "## Adding properties from the merger tree info"
   ]
  },
  {
   "cell_type": "code",
   "execution_count": 25,
   "metadata": {},
   "outputs": [],
   "source": [
    " \n",
    "with h5py.File(DATA_PATH + 'MergerTree_L205n2500TNG_DM_ext_New.hdf5',\n",
    "               'r') as hf:\n",
    "\n",
    "    \n",
    "    formation_time = hf['Haloes']['z0p50'][:]\n",
    "    n_mergers = hf['Haloes']['NMerg'][:]\n",
    "    mass_peak = hf['Haloes']['Mpeak'][:]\n",
    "    main_prog_mass = hf['Haloes']['MainProgMass'][:]\n",
    "    vpeak = hf['Haloes']['Vpeak'][:]\n",
    "    \n",
    "    mergertree_ids = hf['Haloes']['Index'][:]\n"
   ]
  },
  {
   "cell_type": "code",
   "execution_count": 26,
   "metadata": {},
   "outputs": [],
   "source": [
    "mergertree_data = np.vstack([mergertree_ids, formation_time, n_mergers,\n",
    "                            mass_peak, vpeak]).T"
   ]
  },
  {
   "cell_type": "code",
   "execution_count": 27,
   "metadata": {},
   "outputs": [],
   "source": [
    "mergertree_df = pd.DataFrame(data = mergertree_data, \n",
    "                columns = ['ID_DMO', 'Formation Time', 'Nmergers','MassPeak', 'vpeak'])"
   ]
  },
  {
   "cell_type": "code",
   "execution_count": 28,
   "metadata": {},
   "outputs": [],
   "source": [
    "merged_tree_df = pd.merge(merged_matching_df,\n",
    "                          mergertree_df, on = ['ID_DMO'], how = 'inner')\n"
   ]
  },
  {
   "cell_type": "markdown",
   "metadata": {},
   "source": [
    "## Add more features from TNG"
   ]
  },
  {
   "cell_type": "code",
   "execution_count": 75,
   "metadata": {},
   "outputs": [],
   "source": [
    "tng_path = '/cosma6/data/dp004/dc-cues1/tng_dataframes/'\n",
    "\n",
    "dmo_file =  'dmo_halos.hdf5'\n",
    "\n",
    "dmo_df = pd.read_hdf(tng_path + dmo_file)\n"
   ]
  },
  {
   "cell_type": "code",
   "execution_count": 76,
   "metadata": {},
   "outputs": [],
   "source": [
    "dmo_merged_df = pd.merge(merged_tree_df, dmo_df, on = ['ID_DMO'], how = 'inner')\n"
   ]
  },
  {
   "cell_type": "code",
   "execution_count": 77,
   "metadata": {},
   "outputs": [],
   "source": [
    "dmo_merged_df = dmo_merged_df.drop(columns = ['Group_M_Crit200'])\n"
   ]
  },
  {
   "cell_type": "code",
   "execution_count": 83,
   "metadata": {},
   "outputs": [
    {
     "data": {
      "text/plain": [
       "(array([9.6627e+04, 7.6774e+04, 2.8105e+04, 7.3770e+03, 1.6070e+03,\n",
       "        3.8700e+02, 1.3400e+02, 5.5000e+01, 3.9000e+01, 1.9000e+01]),\n",
       " array([ -1.        ,  18.0772124 ,  37.15442481,  56.23163721,\n",
       "         75.30884962,  94.38606202, 113.46327443, 132.54048683,\n",
       "        151.61769924, 170.69491164, 189.77212405]),\n",
       " <a list of 10 Patch objects>)"
      ]
     },
     "execution_count": 83,
     "metadata": {},
     "output_type": "execute_result"
    },
    {
     "data": {
      "image/png": "[encoded data removed]",
      "text/plain": [
       "<Figure size 432x288 with 1 Axes>"
      ]
     },
     "metadata": {},
     "output_type": "display_data"
    }
   ],
   "source": [
    "plt.hist(dmo_merged_df['haas_env_01'], log = True)\n",
    "plt.hist(dmo_merged_df['haas_env_1'], log = True, alpha = 0.5)\n",
    "plt.hist(dmo_merged_df['haas_env_10'], log = True, alpha = 0.5)"
   ]
  },
  {
   "cell_type": "code",
   "execution_count": 90,
   "metadata": {},
   "outputs": [
    {
     "data": {
      "text/plain": [
       "[<matplotlib.lines.Line2D at 0x7f65c2aa6320>]"
      ]
     },
     "execution_count": 90,
     "metadata": {},
     "output_type": "execute_result"
    },
    {
     "data": {
      "image/png": "[encoded data removed]",
      "text/plain": [
       "<Figure size 432x288 with 1 Axes>"
      ]
     },
     "metadata": {},
     "output_type": "display_data"
    }
   ],
   "source": [
    "plt.semilogx(dmo_merged_df['M200c'], dmo_merged_df['haas_env_01'],\n",
    "        linestyle ='', marker='o', markersize=3)"
   ]
  },
  {
   "cell_type": "code",
   "execution_count": 32,
   "metadata": {},
   "outputs": [],
   "source": [
    "hydro_file = 'hydro_galaxies.hdf5'\n",
    "\n",
    "hydro_df = pd.read_hdf(tng_path + hydro_file)\n",
    "\n",
    "hydro_merged_df = pd.merge(dmo_merged_df, hydro_df, on = ['ID_HYDRO'], how = 'inner', suffixes = ('_dmo', '_hydro'))\n",
    "hydro_merged_df = hydro_merged_df.drop(columns = ['Group_M_Crit200', 'M200_DMO'])\n"
   ]
  },
  {
   "cell_type": "code",
   "execution_count": 33,
   "metadata": {},
   "outputs": [],
   "source": [
    "agg_df = hydro_merged_df.groupby('ID_DMO')['N_gals'].sum()\n",
    "no_duplicates_df = hydro_merged_df.drop_duplicates(subset = 'ID_DMO', keep = 'last')\n",
    "\n",
    "no_duplicates_df = pd.merge(no_duplicates_df, agg_df.to_frame('N_gals_total').reset_index())\n",
    "no_duplicates_df = no_duplicates_df.drop(columns = ['N_gals'])\n",
    "no_duplicates_df.rename(columns = {'N_gals_total':'N_gals'}, inplace = True)"
   ]
  },
  {
   "cell_type": "code",
   "execution_count": 34,
   "metadata": {},
   "outputs": [
    {
     "data": {
      "text/plain": [
       "Text(0.5,0,'N galaxies')"
      ]
     },
     "execution_count": 34,
     "metadata": {},
     "output_type": "execute_result"
    },
    {
     "data": {
      "image/png": "[encoded data removed]",
      "text/plain": [
       "<Figure size 432x288 with 1 Axes>"
      ]
     },
     "metadata": {},
     "output_type": "display_data"
    }
   ],
   "source": [
    "_, bins, _ = plt.hist(hydro_merged_df.N_gals, bins = 20,\n",
    "                     log = True)\n",
    "\n",
    "_ = plt.hist(no_duplicates_df.N_gals, log = True, alpha = 0.4, bins = bins)\n",
    "\n",
    "plt.xlabel('N galaxies')"
   ]
  },
  {
   "cell_type": "code",
   "execution_count": 35,
   "metadata": {},
   "outputs": [],
   "source": [
    "n_centrals = no_duplicates_df.N_gals > 0\n",
    "n_satellites = np.where(no_duplicates_df.N_gals > 0, no_duplicates_df.N_gals - 1, 0)"
   ]
  },
  {
   "cell_type": "code",
   "execution_count": 36,
   "metadata": {},
   "outputs": [],
   "source": [
    "nbins= 20\n",
    "bins = np.logspace(np.log10(np.min(no_duplicates_df.M200c)),\n",
    "                   np.log10(np.max(no_duplicates_df.M200c)), nbins+1)\n",
    "\n",
    "bin_centers = (bins[1:]+bins[:-1])/2.\n",
    "\n",
    "\n",
    "n_centrals_binned, edges, _ = binned_statistic(no_duplicates_df.M200c,\n",
    "                                    n_centrals,\n",
    "                                    statistic = 'mean',\n",
    "                                    bins=bins)\n",
    "\n",
    "n_centrals_error, edges, _ = binned_statistic(no_duplicates_df.M200c,\n",
    "                                    n_centrals, \n",
    "                                    statistic = 'std',\n",
    "                                    bins=bins)"
   ]
  },
  {
   "cell_type": "code",
   "execution_count": 37,
   "metadata": {},
   "outputs": [],
   "source": [
    "n_satellites_binned, edges, _ = binned_statistic(no_duplicates_df.M200c, \n",
    "                                    n_satellites,\n",
    "                                    statistic = 'mean',\n",
    "                                    bins=bins)\n",
    "\n",
    "n_satellites_error, edges, _ = binned_statistic(no_duplicates_df.M200c,\n",
    "                                    n_satellites, \n",
    "                                    statistic = 'std',\n",
    "                                    bins=bins)"
   ]
  },
  {
   "cell_type": "code",
   "execution_count": 38,
   "metadata": {},
   "outputs": [
    {
     "data": {
      "text/plain": [
       "<matplotlib.legend.Legend at 0x7f664910cbe0>"
      ]
     },
     "execution_count": 38,
     "metadata": {},
     "output_type": "execute_result"
    },
    {
     "data": {
      "image/png": "[encoded data removed]",
      "text/plain": [
       "<Figure size 432x288 with 1 Axes>"
      ]
     },
     "metadata": {},
     "output_type": "display_data"
    }
   ],
   "source": [
    "fig = plt.figure()\n",
    "ax = plt.axes()\n",
    "ax.plot((edges[1:]+edges[:-1])/2.,\n",
    "           n_centrals_binned, #yerr = n_centrals_error, \n",
    "        color='orange', marker='o',markersize=3,\n",
    "           label = 'centrals')\n",
    "\n",
    "ax.plot((edges[1:]+edges[:-1])/2.,\n",
    "           n_centrals_binned*n_satellites_binned, #yerr = n_satellites_error, \n",
    "             color='royalblue', marker='o',markersize=3,\n",
    "        label = 'satellites')\n",
    "\n",
    "\n",
    "\n",
    "ax.set_xscale(\"log\")\n",
    "ax.set_yscale(\"log\")\n",
    "\n",
    "ax.set_ylabel('Number of galaxies')\n",
    "ax.set_xlabel(r'$M_{200c}$')\n",
    "ax.set_ylim(1e-1)\n",
    "plt.legend()"
   ]
  },
  {
   "cell_type": "code",
   "execution_count": 39,
   "metadata": {},
   "outputs": [
    {
     "data": {
      "image/png": "[encoded data removed]",
      "text/plain": [
       "<Figure size 432x288 with 1 Axes>"
      ]
     },
     "metadata": {},
     "output_type": "display_data"
    }
   ],
   "source": [
    "hmf.plot_halo_mass_function(no_duplicates_df['M200c'])"
   ]
  },
  {
   "cell_type": "code",
   "execution_count": 40,
   "metadata": {},
   "outputs": [
    {
     "data": {
      "image/png": "[encoded data removed]",
      "text/plain": [
       "<Figure size 432x288 with 1 Axes>"
      ]
     },
     "metadata": {},
     "output_type": "display_data"
    }
   ],
   "source": [
    "hmf.plot_halo_mass_function(no_duplicates_df['M200_HYDRO'])"
   ]
  },
  {
   "cell_type": "code",
   "execution_count": null,
   "metadata": {},
   "outputs": [],
   "source": []
  },
  {
   "cell_type": "code",
   "execution_count": null,
   "metadata": {},
   "outputs": [],
   "source": []
  }
 ],
 "metadata": {
  "kernelspec": {
   "display_name": "Python 3",
   "language": "python",
   "name": "python3"
  },
  "language_info": {
   "codemirror_mode": {
    "name": "ipython",
    "version": 3
   },
   "file_extension": ".py",
   "mimetype": "text/x-python",
   "name": "python",
   "nbconvert_exporter": "python",
   "pygments_lexer": "ipython3",
   "version": "3.6.5"
  }
 },
 "nbformat": 4,
 "nbformat_minor": 2
}

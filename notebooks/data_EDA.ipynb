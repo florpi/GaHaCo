{
 "cells": [
  {
   "cell_type": "code",
   "execution_count": 1,
   "metadata": {},
   "outputs": [],
   "source": [
    "import pandas as pd\n",
    "import h5py\n",
    "import numpy as np\n",
    "import matplotlib.pyplot as plt\n",
    "from scipy.stats import binned_statistic\n",
    "\n",
    "from GaHaCo.src.visualization import halo_mass_function as hmf"
   ]
  },
  {
   "cell_type": "code",
   "execution_count": 2,
   "metadata": {},
   "outputs": [],
   "source": [
    "DATA_PATH = '/cosma5/data/dp004/hvrn44/HOD/'\n",
    "HALO_MASS_CUT = 1.e11 #solar masses"
   ]
  },
  {
   "cell_type": "markdown",
   "metadata": {},
   "source": [
    "## Matching halos in the DMO and HYDRO simulations"
   ]
  },
  {
   "cell_type": "code",
   "execution_count": 3,
   "metadata": {},
   "outputs": [],
   "source": [
    "matching_df = pd.read_csv(DATA_PATH + 'MatchedHaloes_L205n2500.dat',\n",
    "                         delimiter = ' ', skiprows = 1,\n",
    "        names = ['ID_DMO', 'ID_HYDRO', 'M200_DMO', 'M200_HYDRO'])"
   ]
  },
  {
   "cell_type": "code",
   "execution_count": 4,
   "metadata": {},
   "outputs": [
    {
     "data": {
      "text/html": [
       "<div>\n",
       "<style scoped>\n",
       "    .dataframe tbody tr th:only-of-type {\n",
       "        vertical-align: middle;\n",
       "    }\n",
       "\n",
       "    .dataframe tbody tr th {\n",
       "        vertical-align: top;\n",
       "    }\n",
       "\n",
       "    .dataframe thead th {\n",
       "        text-align: right;\n",
       "    }\n",
       "</style>\n",
       "<table border=\"1\" class=\"dataframe\">\n",
       "  <thead>\n",
       "    <tr style=\"text-align: right;\">\n",
       "      <th></th>\n",
       "      <th>ID_DMO</th>\n",
       "      <th>ID_HYDRO</th>\n",
       "      <th>M200_DMO</th>\n",
       "      <th>M200_HYDRO</th>\n",
       "    </tr>\n",
       "  </thead>\n",
       "  <tbody>\n",
       "    <tr>\n",
       "      <td>0</td>\n",
       "      <td>0</td>\n",
       "      <td>0</td>\n",
       "      <td>1.021000e+15</td>\n",
       "      <td>1.040000e+15</td>\n",
       "    </tr>\n",
       "    <tr>\n",
       "      <td>1</td>\n",
       "      <td>1</td>\n",
       "      <td>1</td>\n",
       "      <td>8.764000e+14</td>\n",
       "      <td>8.856000e+14</td>\n",
       "    </tr>\n",
       "    <tr>\n",
       "      <td>2</td>\n",
       "      <td>2</td>\n",
       "      <td>2</td>\n",
       "      <td>6.446000e+14</td>\n",
       "      <td>7.000000e+14</td>\n",
       "    </tr>\n",
       "    <tr>\n",
       "      <td>3</td>\n",
       "      <td>3</td>\n",
       "      <td>3</td>\n",
       "      <td>5.923000e+14</td>\n",
       "      <td>6.094000e+14</td>\n",
       "    </tr>\n",
       "    <tr>\n",
       "      <td>4</td>\n",
       "      <td>4</td>\n",
       "      <td>4</td>\n",
       "      <td>5.618000e+14</td>\n",
       "      <td>5.702000e+14</td>\n",
       "    </tr>\n",
       "    <tr>\n",
       "      <td>...</td>\n",
       "      <td>...</td>\n",
       "      <td>...</td>\n",
       "      <td>...</td>\n",
       "      <td>...</td>\n",
       "    </tr>\n",
       "    <tr>\n",
       "      <td>507535</td>\n",
       "      <td>233452</td>\n",
       "      <td>17621455</td>\n",
       "      <td>1.074000e+11</td>\n",
       "      <td>1.121000e+09</td>\n",
       "    </tr>\n",
       "    <tr>\n",
       "      <td>507536</td>\n",
       "      <td>64861</td>\n",
       "      <td>17622524</td>\n",
       "      <td>4.568000e+11</td>\n",
       "      <td>4.780000e+08</td>\n",
       "    </tr>\n",
       "    <tr>\n",
       "      <td>507537</td>\n",
       "      <td>106353</td>\n",
       "      <td>17622884</td>\n",
       "      <td>2.592000e+11</td>\n",
       "      <td>7.641000e+08</td>\n",
       "    </tr>\n",
       "    <tr>\n",
       "      <td>507538</td>\n",
       "      <td>39555</td>\n",
       "      <td>17623990</td>\n",
       "      <td>6.809000e+11</td>\n",
       "      <td>6.064000e+08</td>\n",
       "    </tr>\n",
       "    <tr>\n",
       "      <td>507539</td>\n",
       "      <td>35842</td>\n",
       "      <td>17625655</td>\n",
       "      <td>4.981000e+11</td>\n",
       "      <td>9.959000e+08</td>\n",
       "    </tr>\n",
       "  </tbody>\n",
       "</table>\n",
       "<p>507540 rows × 4 columns</p>\n",
       "</div>"
      ],
      "text/plain": [
       "        ID_DMO  ID_HYDRO      M200_DMO    M200_HYDRO\n",
       "0            0         0  1.021000e+15  1.040000e+15\n",
       "1            1         1  8.764000e+14  8.856000e+14\n",
       "2            2         2  6.446000e+14  7.000000e+14\n",
       "3            3         3  5.923000e+14  6.094000e+14\n",
       "4            4         4  5.618000e+14  5.702000e+14\n",
       "...        ...       ...           ...           ...\n",
       "507535  233452  17621455  1.074000e+11  1.121000e+09\n",
       "507536   64861  17622524  4.568000e+11  4.780000e+08\n",
       "507537  106353  17622884  2.592000e+11  7.641000e+08\n",
       "507538   39555  17623990  6.809000e+11  6.064000e+08\n",
       "507539   35842  17625655  4.981000e+11  9.959000e+08\n",
       "\n",
       "[507540 rows x 4 columns]"
      ]
     },
     "execution_count": 4,
     "metadata": {},
     "output_type": "execute_result"
    }
   ],
   "source": [
    "matching_df"
   ]
  },
  {
   "cell_type": "code",
   "execution_count": 5,
   "metadata": {},
   "outputs": [
    {
     "data": {
      "image/png": "[encoded data removed]",
      "text/plain": [
       "<Figure size 432x288 with 1 Axes>"
      ]
     },
     "metadata": {},
     "output_type": "display_data"
    }
   ],
   "source": [
    "hmf.plot_halo_mass_function(matching_df['M200_DMO'])\n"
   ]
  },
  {
   "cell_type": "code",
   "execution_count": 6,
   "metadata": {},
   "outputs": [
    {
     "data": {
      "image/png": "[encoded data removed]",
      "text/plain": [
       "<Figure size 432x288 with 1 Axes>"
      ]
     },
     "metadata": {},
     "output_type": "display_data"
    }
   ],
   "source": [
    "hmf.plot_halo_mass_function(matching_df['M200_HYDRO'])"
   ]
  },
  {
   "cell_type": "code",
   "execution_count": 8,
   "metadata": {},
   "outputs": [
    {
     "data": {
      "text/plain": [
       "<matplotlib.legend.Legend at 0x2b1418cd6c88>"
      ]
     },
     "execution_count": 8,
     "metadata": {},
     "output_type": "execute_result"
    },
    {
     "data": {
      "image/png": "[encoded data removed]",
      "text/plain": [
       "<Figure size 432x288 with 1 Axes>"
      ]
     },
     "metadata": {},
     "output_type": "display_data"
    }
   ],
   "source": [
    "hmf.plot_halo_mass_function(matching_df['M200_DMO'], color = 'indianred', label = 'DMO')\n",
    "hmf.plot_halo_mass_function(matching_df['M200_HYDRO'], color = 'black', label = 'Hydro')\n",
    "plt.legend()"
   ]
  },
  {
   "cell_type": "code",
   "execution_count": 9,
   "metadata": {},
   "outputs": [
    {
     "name": "stdout",
     "output_type": "stream",
     "text": [
      "There are 228051 unique haloes in the Dark matter only simulation\n",
      "There are 507540 haloes in the hydro simulation\n"
     ]
    }
   ],
   "source": [
    "print(f'There are {len(np.unique(matching_df.ID_DMO))} unique haloes in the Dark matter only simulation')\n",
    "print(f'There are {len(np.unique(matching_df.ID_HYDRO))} haloes in the hydro simulation')"
   ]
  },
  {
   "cell_type": "markdown",
   "metadata": {},
   "source": [
    "## Halo mass cut on the DMO ones"
   ]
  },
  {
   "cell_type": "code",
   "execution_count": 10,
   "metadata": {},
   "outputs": [],
   "source": [
    "mass_matching_df = matching_df.loc[matching_df['M200_DMO'] > HALO_MASS_CUT]"
   ]
  },
  {
   "cell_type": "code",
   "execution_count": 11,
   "metadata": {},
   "outputs": [
    {
     "name": "stdout",
     "output_type": "stream",
     "text": [
      "There are 227968 unique haloes above 1.0E+11 solar masses in the Dark matter only simulation\n"
     ]
    }
   ],
   "source": [
    "print(f'There are {len(np.unique(mass_matching_df.ID_DMO))} unique haloes above {HALO_MASS_CUT:.1E}'\n",
    "      ' solar masses in the Dark matter only simulation')"
   ]
  },
  {
   "cell_type": "code",
   "execution_count": 12,
   "metadata": {},
   "outputs": [
    {
     "name": "stdout",
     "output_type": "stream",
     "text": [
      "There are 507434 unique haloes above 1.0E+11 solar masses in the Hydro simulation\n"
     ]
    }
   ],
   "source": [
    "print(f'There are {len(np.unique(mass_matching_df.ID_HYDRO))} unique haloes above {HALO_MASS_CUT:.1E}'\n",
    "      ' solar masses in the Hydro simulation')"
   ]
  },
  {
   "cell_type": "code",
   "execution_count": 13,
   "metadata": {},
   "outputs": [],
   "source": [
    "# keep only unique matchings\n",
    "\n",
    "idx, count = np.unique(mass_matching_df.ID_DMO, return_counts=True)"
   ]
  },
  {
   "cell_type": "code",
   "execution_count": 14,
   "metadata": {},
   "outputs": [
    {
     "data": {
      "text/plain": [
       "Text(0.5,0,'Number of hydro haloes matched to the same DMO halo')"
      ]
     },
     "execution_count": 14,
     "metadata": {},
     "output_type": "execute_result"
    },
    {
     "data": {
      "image/png": "[encoded data removed]",
      "text/plain": [
       "<Figure size 432x288 with 1 Axes>"
      ]
     },
     "metadata": {},
     "output_type": "display_data"
    }
   ],
   "source": [
    "plt.hist(count, log = True)\n",
    "plt.xlabel('Number of hydro haloes matched to the same DMO halo')"
   ]
  },
  {
   "cell_type": "code",
   "execution_count": 15,
   "metadata": {},
   "outputs": [],
   "source": [
    "unique_dmo_idx = idx[count == 1]\n",
    "unique_matching_df = mass_matching_df.loc[mass_matching_df.ID_DMO.isin(unique_dmo_idx)]"
   ]
  },
  {
   "cell_type": "code",
   "execution_count": 16,
   "metadata": {},
   "outputs": [
    {
     "data": {
      "text/plain": [
       "<matplotlib.legend.Legend at 0x2b1419707be0>"
      ]
     },
     "execution_count": 16,
     "metadata": {},
     "output_type": "execute_result"
    },
    {
     "data": {
      "image/png": "[encoded data removed]",
      "text/plain": [
       "<Figure size 432x288 with 1 Axes>"
      ]
     },
     "metadata": {},
     "output_type": "display_data"
    }
   ],
   "source": [
    "hmf.plot_halo_mass_function(unique_matching_df['M200_DMO'], color = 'indianred', label = 'DMO')\n",
    "hmf.plot_halo_mass_function(unique_matching_df['M200_HYDRO'], color = 'black', label = 'Hydro')\n",
    "plt.legend()"
   ]
  },
  {
   "cell_type": "markdown",
   "metadata": {},
   "source": [
    "## Adding some halo properties from DMO sims"
   ]
  },
  {
   "cell_type": "code",
   "execution_count": 17,
   "metadata": {},
   "outputs": [],
   "source": [
    "with h5py.File(DATA_PATH + 'HaloProfiles_DMO_z0.00_ext.hdf5', 'r') as hf:\n",
    "        \n",
    "       \n",
    "    mass = hf['Haloes']['M200'][:]\n",
    "    vmax = hf['Haloes']['Vmax'][:]\n",
    "    rmax = hf['Haloes']['Rmax'][:]\n",
    "    r200c = hf['Haloes']['R200'][:]\n",
    "    cnfw = hf['Haloes']['Cnfw'][:]\n",
    "    rhosnfw = hf['Haloes']['Rhosnfw'][:]\n",
    "\n",
    "    massprofile = hf['Haloes']['DMMassProfile'][:]\n",
    "\n",
    "    parametrized_cnfw = vmax/(rmax * 70)\n",
    "\n",
    "    properties_ids = hf['Haloes']['GroupNumber'][:]"
   ]
  },
  {
   "cell_type": "code",
   "execution_count": 18,
   "metadata": {},
   "outputs": [],
   "source": [
    "properties = np.vstack([properties_ids,mass, vmax, rmax,\n",
    "                                     r200c, cnfw, rhosnfw]).T"
   ]
  },
  {
   "cell_type": "code",
   "execution_count": 19,
   "metadata": {},
   "outputs": [],
   "source": [
    "properties_df = pd.DataFrame(data = properties,\n",
    "                             columns = ['ID_DMO', 'M200c', 'Vmax', 'Rmax', \n",
    "                                        'R200c', 'Cnfw', 'Rhosnfw'])"
   ]
  },
  {
   "cell_type": "code",
   "execution_count": 20,
   "metadata": {},
   "outputs": [
    {
     "data": {
      "text/html": [
       "<div>\n",
       "<style scoped>\n",
       "    .dataframe tbody tr th:only-of-type {\n",
       "        vertical-align: middle;\n",
       "    }\n",
       "\n",
       "    .dataframe tbody tr th {\n",
       "        vertical-align: top;\n",
       "    }\n",
       "\n",
       "    .dataframe thead th {\n",
       "        text-align: right;\n",
       "    }\n",
       "</style>\n",
       "<table border=\"1\" class=\"dataframe\">\n",
       "  <thead>\n",
       "    <tr style=\"text-align: right;\">\n",
       "      <th></th>\n",
       "      <th>ID_DMO</th>\n",
       "      <th>M200c</th>\n",
       "      <th>Vmax</th>\n",
       "      <th>Rmax</th>\n",
       "      <th>R200c</th>\n",
       "      <th>Cnfw</th>\n",
       "      <th>Rhosnfw</th>\n",
       "    </tr>\n",
       "  </thead>\n",
       "  <tbody>\n",
       "    <tr>\n",
       "      <td>0</td>\n",
       "      <td>0.0</td>\n",
       "      <td>1.021094e+15</td>\n",
       "      <td>1720.320608</td>\n",
       "      <td>1.017927</td>\n",
       "      <td>1637.737427</td>\n",
       "      <td>5.698943e+00</td>\n",
       "      <td>3.148591e+06</td>\n",
       "    </tr>\n",
       "    <tr>\n",
       "      <td>1</td>\n",
       "      <td>1.0</td>\n",
       "      <td>8.763998e+14</td>\n",
       "      <td>1626.658679</td>\n",
       "      <td>1.095801</td>\n",
       "      <td>1556.385864</td>\n",
       "      <td>4.528827e+00</td>\n",
       "      <td>1.890909e+06</td>\n",
       "    </tr>\n",
       "    <tr>\n",
       "      <td>2</td>\n",
       "      <td>2.0</td>\n",
       "      <td>6.445536e+14</td>\n",
       "      <td>1435.573084</td>\n",
       "      <td>0.915569</td>\n",
       "      <td>1404.871216</td>\n",
       "      <td>5.604312e+00</td>\n",
       "      <td>2.870591e+06</td>\n",
       "    </tr>\n",
       "    <tr>\n",
       "      <td>3</td>\n",
       "      <td>3.0</td>\n",
       "      <td>5.922584e+14</td>\n",
       "      <td>1418.062988</td>\n",
       "      <td>0.788401</td>\n",
       "      <td>1365.790283</td>\n",
       "      <td>4.750148e+00</td>\n",
       "      <td>2.012141e+06</td>\n",
       "    </tr>\n",
       "    <tr>\n",
       "      <td>4</td>\n",
       "      <td>4.0</td>\n",
       "      <td>5.617762e+14</td>\n",
       "      <td>1398.909960</td>\n",
       "      <td>0.767208</td>\n",
       "      <td>1341.978027</td>\n",
       "      <td>5.069929e+00</td>\n",
       "      <td>2.391334e+06</td>\n",
       "    </tr>\n",
       "    <tr>\n",
       "      <td>...</td>\n",
       "      <td>...</td>\n",
       "      <td>...</td>\n",
       "      <td>...</td>\n",
       "      <td>...</td>\n",
       "      <td>...</td>\n",
       "      <td>...</td>\n",
       "      <td>...</td>\n",
       "    </tr>\n",
       "    <tr>\n",
       "      <td>229260</td>\n",
       "      <td>278079.0</td>\n",
       "      <td>1.007831e+11</td>\n",
       "      <td>103.223734</td>\n",
       "      <td>0.014772</td>\n",
       "      <td>75.686066</td>\n",
       "      <td>5.608999e+01</td>\n",
       "      <td>1.312776e+09</td>\n",
       "    </tr>\n",
       "    <tr>\n",
       "      <td>229261</td>\n",
       "      <td>278541.0</td>\n",
       "      <td>1.001213e+11</td>\n",
       "      <td>109.084942</td>\n",
       "      <td>0.011484</td>\n",
       "      <td>75.523170</td>\n",
       "      <td>7.382515e+01</td>\n",
       "      <td>2.832885e+09</td>\n",
       "    </tr>\n",
       "    <tr>\n",
       "      <td>229262</td>\n",
       "      <td>279423.0</td>\n",
       "      <td>1.003104e+11</td>\n",
       "      <td>108.027972</td>\n",
       "      <td>0.012738</td>\n",
       "      <td>75.567726</td>\n",
       "      <td>5.663748e+01</td>\n",
       "      <td>1.331717e+09</td>\n",
       "    </tr>\n",
       "    <tr>\n",
       "      <td>229263</td>\n",
       "      <td>279745.0</td>\n",
       "      <td>1.006413e+11</td>\n",
       "      <td>117.696697</td>\n",
       "      <td>0.012200</td>\n",
       "      <td>75.648079</td>\n",
       "      <td>3.588773e+07</td>\n",
       "      <td>2.795470e+26</td>\n",
       "    </tr>\n",
       "    <tr>\n",
       "      <td>229264</td>\n",
       "      <td>280987.0</td>\n",
       "      <td>1.000741e+11</td>\n",
       "      <td>108.866826</td>\n",
       "      <td>0.014430</td>\n",
       "      <td>75.510895</td>\n",
       "      <td>1.792922e+07</td>\n",
       "      <td>3.687706e+25</td>\n",
       "    </tr>\n",
       "  </tbody>\n",
       "</table>\n",
       "<p>229265 rows × 7 columns</p>\n",
       "</div>"
      ],
      "text/plain": [
       "          ID_DMO         M200c         Vmax      Rmax        R200c  \\\n",
       "0            0.0  1.021094e+15  1720.320608  1.017927  1637.737427   \n",
       "1            1.0  8.763998e+14  1626.658679  1.095801  1556.385864   \n",
       "2            2.0  6.445536e+14  1435.573084  0.915569  1404.871216   \n",
       "3            3.0  5.922584e+14  1418.062988  0.788401  1365.790283   \n",
       "4            4.0  5.617762e+14  1398.909960  0.767208  1341.978027   \n",
       "...          ...           ...          ...       ...          ...   \n",
       "229260  278079.0  1.007831e+11   103.223734  0.014772    75.686066   \n",
       "229261  278541.0  1.001213e+11   109.084942  0.011484    75.523170   \n",
       "229262  279423.0  1.003104e+11   108.027972  0.012738    75.567726   \n",
       "229263  279745.0  1.006413e+11   117.696697  0.012200    75.648079   \n",
       "229264  280987.0  1.000741e+11   108.866826  0.014430    75.510895   \n",
       "\n",
       "                Cnfw       Rhosnfw  \n",
       "0       5.698943e+00  3.148591e+06  \n",
       "1       4.528827e+00  1.890909e+06  \n",
       "2       5.604312e+00  2.870591e+06  \n",
       "3       4.750148e+00  2.012141e+06  \n",
       "4       5.069929e+00  2.391334e+06  \n",
       "...              ...           ...  \n",
       "229260  5.608999e+01  1.312776e+09  \n",
       "229261  7.382515e+01  2.832885e+09  \n",
       "229262  5.663748e+01  1.331717e+09  \n",
       "229263  3.588773e+07  2.795470e+26  \n",
       "229264  1.792922e+07  3.687706e+25  \n",
       "\n",
       "[229265 rows x 7 columns]"
      ]
     },
     "execution_count": 20,
     "metadata": {},
     "output_type": "execute_result"
    }
   ],
   "source": [
    "properties_df"
   ]
  },
  {
   "cell_type": "code",
   "execution_count": 21,
   "metadata": {},
   "outputs": [],
   "source": [
    "merged_matching_df = pd.merge(unique_matching_df, properties_df, on = ['ID_DMO'], how = 'inner')\n"
   ]
  },
  {
   "cell_type": "markdown",
   "metadata": {},
   "source": [
    "## Adding properties from the merger tree info"
   ]
  },
  {
   "cell_type": "code",
   "execution_count": 22,
   "metadata": {},
   "outputs": [],
   "source": [
    " \n",
    "with h5py.File(DATA_PATH + 'MergerTree_L205n2500TNG_DM_ext_New.hdf5',\n",
    "               'r') as hf:\n",
    "\n",
    "    \n",
    "    formation_time = hf['Haloes']['z0p50'][:]\n",
    "    n_mergers = hf['Haloes']['NMerg'][:]\n",
    "    mass_peak = hf['Haloes']['Mpeak'][:]\n",
    "    main_prog_mass = hf['Haloes']['MainProgMass'][:]\n",
    "    vpeak = hf['Haloes']['Vpeak'][:]\n",
    "    \n",
    "    mergertree_ids = hf['Haloes']['Index'][:]\n"
   ]
  },
  {
   "cell_type": "code",
   "execution_count": 23,
   "metadata": {},
   "outputs": [],
   "source": [
    "mergertree_data = np.vstack([mergertree_ids, formation_time, n_mergers,\n",
    "                            mass_peak, vpeak]).T"
   ]
  },
  {
   "cell_type": "code",
   "execution_count": 24,
   "metadata": {},
   "outputs": [],
   "source": [
    "mergertree_df = pd.DataFrame(data = mergertree_data, \n",
    "                columns = ['ID_DMO', 'Formation Time', 'Nmergers','MassPeak', 'vpeak'])"
   ]
  },
  {
   "cell_type": "code",
   "execution_count": 25,
   "metadata": {},
   "outputs": [],
   "source": [
    "merged_tree_df = pd.merge(merged_matching_df,\n",
    "                          mergertree_df, on = ['ID_DMO'], how = 'inner')\n"
   ]
  },
  {
   "cell_type": "markdown",
   "metadata": {},
   "source": [
    "## Add more features from TNG"
   ]
  },
  {
   "cell_type": "code",
   "execution_count": 26,
   "metadata": {},
   "outputs": [],
   "source": [
    "tng_path = '/cosma6/data/dp004/dc-cues1/tng_dataframes/'\n",
    "\n",
    "dmo_file =  'dmo_halos.hdf5'\n",
    "\n",
    "dmo_df = pd.read_hdf(tng_path + dmo_file)\n"
   ]
  },
  {
   "cell_type": "code",
   "execution_count": 27,
   "metadata": {},
   "outputs": [],
   "source": [
    "dmo_merged_df = pd.merge(merged_tree_df, dmo_df, on = ['ID_DMO'], how = 'inner')\n"
   ]
  },
  {
   "cell_type": "code",
   "execution_count": 28,
   "metadata": {},
   "outputs": [],
   "source": [
    "dmo_merged_df = dmo_merged_df.drop(columns = ['Group_M_Crit200'])\n",
    "dmo_merged_df = dmo_merged_df.drop(columns = ['Group_R_Crit200'])\n"
   ]
  },
  {
   "cell_type": "code",
   "execution_count": 29,
   "metadata": {},
   "outputs": [],
   "source": [
    "hydro_file = 'hydro_galaxies.hdf5'\n",
    "\n",
    "hydro_df = pd.read_hdf(tng_path + hydro_file)\n",
    "\n",
    "hydro_merged_df = pd.merge(dmo_merged_df, hydro_df, on = ['ID_HYDRO'], how = 'inner', suffixes = ('_dmo', '_hydro'))\n",
    "hydro_merged_df = hydro_merged_df.drop(columns = ['Group_M_Crit200', 'M200_DMO'])\n"
   ]
  },
  {
   "cell_type": "code",
   "execution_count": 30,
   "metadata": {},
   "outputs": [
    {
     "data": {
      "text/html": [
       "<div>\n",
       "<style scoped>\n",
       "    .dataframe tbody tr th:only-of-type {\n",
       "        vertical-align: middle;\n",
       "    }\n",
       "\n",
       "    .dataframe tbody tr th {\n",
       "        vertical-align: top;\n",
       "    }\n",
       "\n",
       "    .dataframe thead th {\n",
       "        text-align: right;\n",
       "    }\n",
       "</style>\n",
       "<table border=\"1\" class=\"dataframe\">\n",
       "  <thead>\n",
       "    <tr style=\"text-align: right;\">\n",
       "      <th></th>\n",
       "      <th>ID_DMO</th>\n",
       "      <th>ID_HYDRO</th>\n",
       "      <th>M200_HYDRO</th>\n",
       "      <th>M200c</th>\n",
       "      <th>Vmax_x</th>\n",
       "      <th>Rmax</th>\n",
       "      <th>R200c</th>\n",
       "      <th>Cnfw</th>\n",
       "      <th>Rhosnfw</th>\n",
       "      <th>Formation Time</th>\n",
       "      <th>...</th>\n",
       "      <th>fsub_unbound</th>\n",
       "      <th>x_offset</th>\n",
       "      <th>x_dmo</th>\n",
       "      <th>y_dmo</th>\n",
       "      <th>z_dmo</th>\n",
       "      <th>N_gals</th>\n",
       "      <th>M_stars</th>\n",
       "      <th>x_hydro</th>\n",
       "      <th>y_hydro</th>\n",
       "      <th>z_hydro</th>\n",
       "    </tr>\n",
       "  </thead>\n",
       "  <tbody>\n",
       "    <tr>\n",
       "      <td>0</td>\n",
       "      <td>5176</td>\n",
       "      <td>4911</td>\n",
       "      <td>6.413000e+12</td>\n",
       "      <td>7.403636e+12</td>\n",
       "      <td>341.285688</td>\n",
       "      <td>0.193742</td>\n",
       "      <td>316.973663</td>\n",
       "      <td>5.780107</td>\n",
       "      <td>3.311509e+06</td>\n",
       "      <td>0.888712</td>\n",
       "      <td>...</td>\n",
       "      <td>0.104134</td>\n",
       "      <td>466.967921</td>\n",
       "      <td>163.034953</td>\n",
       "      <td>83.229992</td>\n",
       "      <td>179.338828</td>\n",
       "      <td>6.0</td>\n",
       "      <td>1.689195e+11</td>\n",
       "      <td>163.042391</td>\n",
       "      <td>83.221234</td>\n",
       "      <td>179.359734</td>\n",
       "    </tr>\n",
       "    <tr>\n",
       "      <td>1</td>\n",
       "      <td>5334</td>\n",
       "      <td>4981</td>\n",
       "      <td>4.846000e+12</td>\n",
       "      <td>5.937365e+12</td>\n",
       "      <td>294.382288</td>\n",
       "      <td>0.298076</td>\n",
       "      <td>294.488647</td>\n",
       "      <td>4.394269</td>\n",
       "      <td>1.596827e+06</td>\n",
       "      <td>0.415892</td>\n",
       "      <td>...</td>\n",
       "      <td>0.196425</td>\n",
       "      <td>563.743651</td>\n",
       "      <td>253.258156</td>\n",
       "      <td>199.109719</td>\n",
       "      <td>227.337500</td>\n",
       "      <td>8.0</td>\n",
       "      <td>1.567598e+11</td>\n",
       "      <td>253.252859</td>\n",
       "      <td>199.115406</td>\n",
       "      <td>227.312312</td>\n",
       "    </tr>\n",
       "    <tr>\n",
       "      <td>2</td>\n",
       "      <td>7238</td>\n",
       "      <td>5392</td>\n",
       "      <td>2.440000e+12</td>\n",
       "      <td>2.402108e+12</td>\n",
       "      <td>231.512614</td>\n",
       "      <td>0.352976</td>\n",
       "      <td>217.811813</td>\n",
       "      <td>3.177258</td>\n",
       "      <td>7.646312e+05</td>\n",
       "      <td>0.458952</td>\n",
       "      <td>...</td>\n",
       "      <td>0.698938</td>\n",
       "      <td>529.864573</td>\n",
       "      <td>151.945797</td>\n",
       "      <td>44.601000</td>\n",
       "      <td>157.183750</td>\n",
       "      <td>8.0</td>\n",
       "      <td>1.215231e+11</td>\n",
       "      <td>151.954688</td>\n",
       "      <td>44.607535</td>\n",
       "      <td>157.211750</td>\n",
       "    </tr>\n",
       "    <tr>\n",
       "      <td>3</td>\n",
       "      <td>5653</td>\n",
       "      <td>5485</td>\n",
       "      <td>3.960000e+12</td>\n",
       "      <td>4.640279e+12</td>\n",
       "      <td>278.607024</td>\n",
       "      <td>0.190633</td>\n",
       "      <td>271.265900</td>\n",
       "      <td>5.482615</td>\n",
       "      <td>2.777998e+06</td>\n",
       "      <td>0.458491</td>\n",
       "      <td>...</td>\n",
       "      <td>0.350506</td>\n",
       "      <td>190.230539</td>\n",
       "      <td>51.544145</td>\n",
       "      <td>224.332328</td>\n",
       "      <td>70.259312</td>\n",
       "      <td>4.0</td>\n",
       "      <td>1.862292e+11</td>\n",
       "      <td>51.543066</td>\n",
       "      <td>224.303188</td>\n",
       "      <td>70.242992</td>\n",
       "    </tr>\n",
       "    <tr>\n",
       "      <td>4</td>\n",
       "      <td>5543</td>\n",
       "      <td>6160</td>\n",
       "      <td>5.426000e+12</td>\n",
       "      <td>6.914848e+12</td>\n",
       "      <td>355.372052</td>\n",
       "      <td>0.085405</td>\n",
       "      <td>309.844360</td>\n",
       "      <td>8.628157</td>\n",
       "      <td>8.548512e+06</td>\n",
       "      <td>0.955517</td>\n",
       "      <td>...</td>\n",
       "      <td>0.024623</td>\n",
       "      <td>515.772693</td>\n",
       "      <td>297.496688</td>\n",
       "      <td>164.154469</td>\n",
       "      <td>148.109125</td>\n",
       "      <td>3.0</td>\n",
       "      <td>1.768937e+11</td>\n",
       "      <td>297.516219</td>\n",
       "      <td>164.154078</td>\n",
       "      <td>148.116297</td>\n",
       "    </tr>\n",
       "    <tr>\n",
       "      <td>...</td>\n",
       "      <td>...</td>\n",
       "      <td>...</td>\n",
       "      <td>...</td>\n",
       "      <td>...</td>\n",
       "      <td>...</td>\n",
       "      <td>...</td>\n",
       "      <td>...</td>\n",
       "      <td>...</td>\n",
       "      <td>...</td>\n",
       "      <td>...</td>\n",
       "      <td>...</td>\n",
       "      <td>...</td>\n",
       "      <td>...</td>\n",
       "      <td>...</td>\n",
       "      <td>...</td>\n",
       "      <td>...</td>\n",
       "      <td>...</td>\n",
       "      <td>...</td>\n",
       "      <td>...</td>\n",
       "      <td>...</td>\n",
       "      <td>...</td>\n",
       "    </tr>\n",
       "    <tr>\n",
       "      <td>139679</td>\n",
       "      <td>169414</td>\n",
       "      <td>15666405</td>\n",
       "      <td>3.983000e+08</td>\n",
       "      <td>1.665380e+11</td>\n",
       "      <td>118.816171</td>\n",
       "      <td>0.015918</td>\n",
       "      <td>89.480110</td>\n",
       "      <td>19.172514</td>\n",
       "      <td>6.569397e+07</td>\n",
       "      <td>2.166447</td>\n",
       "      <td>...</td>\n",
       "      <td>0.026969</td>\n",
       "      <td>2489.222894</td>\n",
       "      <td>96.865078</td>\n",
       "      <td>272.791656</td>\n",
       "      <td>212.682844</td>\n",
       "      <td>0.0</td>\n",
       "      <td>0.000000e+00</td>\n",
       "      <td>96.711914</td>\n",
       "      <td>272.890500</td>\n",
       "      <td>212.572469</td>\n",
       "    </tr>\n",
       "    <tr>\n",
       "      <td>139680</td>\n",
       "      <td>157986</td>\n",
       "      <td>16588519</td>\n",
       "      <td>1.045000e+09</td>\n",
       "      <td>1.395459e+11</td>\n",
       "      <td>108.840086</td>\n",
       "      <td>0.020274</td>\n",
       "      <td>84.356422</td>\n",
       "      <td>14.366032</td>\n",
       "      <td>3.012063e+07</td>\n",
       "      <td>2.508967</td>\n",
       "      <td>...</td>\n",
       "      <td>0.165185</td>\n",
       "      <td>1552.665188</td>\n",
       "      <td>192.502172</td>\n",
       "      <td>235.569219</td>\n",
       "      <td>185.488594</td>\n",
       "      <td>0.0</td>\n",
       "      <td>0.000000e+00</td>\n",
       "      <td>192.384453</td>\n",
       "      <td>235.359594</td>\n",
       "      <td>185.523047</td>\n",
       "    </tr>\n",
       "    <tr>\n",
       "      <td>139681</td>\n",
       "      <td>99063</td>\n",
       "      <td>16847757</td>\n",
       "      <td>1.235000e+09</td>\n",
       "      <td>2.850953e+11</td>\n",
       "      <td>135.821922</td>\n",
       "      <td>0.021882</td>\n",
       "      <td>107.039574</td>\n",
       "      <td>12.763321</td>\n",
       "      <td>2.275998e+07</td>\n",
       "      <td>2.208860</td>\n",
       "      <td>...</td>\n",
       "      <td>0.089717</td>\n",
       "      <td>783.336693</td>\n",
       "      <td>9.396361</td>\n",
       "      <td>6.928338</td>\n",
       "      <td>215.926453</td>\n",
       "      <td>0.0</td>\n",
       "      <td>0.000000e+00</td>\n",
       "      <td>9.590183</td>\n",
       "      <td>7.409898</td>\n",
       "      <td>216.022859</td>\n",
       "    </tr>\n",
       "    <tr>\n",
       "      <td>139682</td>\n",
       "      <td>89584</td>\n",
       "      <td>17276508</td>\n",
       "      <td>9.225000e+08</td>\n",
       "      <td>1.173755e+11</td>\n",
       "      <td>92.015236</td>\n",
       "      <td>0.013619</td>\n",
       "      <td>79.628708</td>\n",
       "      <td>7.290335</td>\n",
       "      <td>5.485306e+06</td>\n",
       "      <td>1.277335</td>\n",
       "      <td>...</td>\n",
       "      <td>0.630689</td>\n",
       "      <td>2725.930252</td>\n",
       "      <td>146.579781</td>\n",
       "      <td>15.411195</td>\n",
       "      <td>180.251531</td>\n",
       "      <td>0.0</td>\n",
       "      <td>0.000000e+00</td>\n",
       "      <td>146.562938</td>\n",
       "      <td>15.558385</td>\n",
       "      <td>180.208641</td>\n",
       "    </tr>\n",
       "    <tr>\n",
       "      <td>139683</td>\n",
       "      <td>103555</td>\n",
       "      <td>17321597</td>\n",
       "      <td>1.042000e+09</td>\n",
       "      <td>2.997022e+11</td>\n",
       "      <td>151.487513</td>\n",
       "      <td>0.020798</td>\n",
       "      <td>108.839729</td>\n",
       "      <td>20.284984</td>\n",
       "      <td>7.392029e+07</td>\n",
       "      <td>3.097634</td>\n",
       "      <td>...</td>\n",
       "      <td>0.058752</td>\n",
       "      <td>1331.211882</td>\n",
       "      <td>163.243125</td>\n",
       "      <td>198.388016</td>\n",
       "      <td>74.821125</td>\n",
       "      <td>0.0</td>\n",
       "      <td>0.000000e+00</td>\n",
       "      <td>163.225016</td>\n",
       "      <td>198.377844</td>\n",
       "      <td>74.775758</td>\n",
       "    </tr>\n",
       "  </tbody>\n",
       "</table>\n",
       "<p>139684 rows × 27 columns</p>\n",
       "</div>"
      ],
      "text/plain": [
       "        ID_DMO  ID_HYDRO    M200_HYDRO         M200c      Vmax_x      Rmax  \\\n",
       "0         5176      4911  6.413000e+12  7.403636e+12  341.285688  0.193742   \n",
       "1         5334      4981  4.846000e+12  5.937365e+12  294.382288  0.298076   \n",
       "2         7238      5392  2.440000e+12  2.402108e+12  231.512614  0.352976   \n",
       "3         5653      5485  3.960000e+12  4.640279e+12  278.607024  0.190633   \n",
       "4         5543      6160  5.426000e+12  6.914848e+12  355.372052  0.085405   \n",
       "...        ...       ...           ...           ...         ...       ...   \n",
       "139679  169414  15666405  3.983000e+08  1.665380e+11  118.816171  0.015918   \n",
       "139680  157986  16588519  1.045000e+09  1.395459e+11  108.840086  0.020274   \n",
       "139681   99063  16847757  1.235000e+09  2.850953e+11  135.821922  0.021882   \n",
       "139682   89584  17276508  9.225000e+08  1.173755e+11   92.015236  0.013619   \n",
       "139683  103555  17321597  1.042000e+09  2.997022e+11  151.487513  0.020798   \n",
       "\n",
       "             R200c       Cnfw       Rhosnfw  Formation Time  ...  \\\n",
       "0       316.973663   5.780107  3.311509e+06        0.888712  ...   \n",
       "1       294.488647   4.394269  1.596827e+06        0.415892  ...   \n",
       "2       217.811813   3.177258  7.646312e+05        0.458952  ...   \n",
       "3       271.265900   5.482615  2.777998e+06        0.458491  ...   \n",
       "4       309.844360   8.628157  8.548512e+06        0.955517  ...   \n",
       "...            ...        ...           ...             ...  ...   \n",
       "139679   89.480110  19.172514  6.569397e+07        2.166447  ...   \n",
       "139680   84.356422  14.366032  3.012063e+07        2.508967  ...   \n",
       "139681  107.039574  12.763321  2.275998e+07        2.208860  ...   \n",
       "139682   79.628708   7.290335  5.485306e+06        1.277335  ...   \n",
       "139683  108.839729  20.284984  7.392029e+07        3.097634  ...   \n",
       "\n",
       "        fsub_unbound     x_offset       x_dmo       y_dmo       z_dmo  N_gals  \\\n",
       "0           0.104134   466.967921  163.034953   83.229992  179.338828     6.0   \n",
       "1           0.196425   563.743651  253.258156  199.109719  227.337500     8.0   \n",
       "2           0.698938   529.864573  151.945797   44.601000  157.183750     8.0   \n",
       "3           0.350506   190.230539   51.544145  224.332328   70.259312     4.0   \n",
       "4           0.024623   515.772693  297.496688  164.154469  148.109125     3.0   \n",
       "...              ...          ...         ...         ...         ...     ...   \n",
       "139679      0.026969  2489.222894   96.865078  272.791656  212.682844     0.0   \n",
       "139680      0.165185  1552.665188  192.502172  235.569219  185.488594     0.0   \n",
       "139681      0.089717   783.336693    9.396361    6.928338  215.926453     0.0   \n",
       "139682      0.630689  2725.930252  146.579781   15.411195  180.251531     0.0   \n",
       "139683      0.058752  1331.211882  163.243125  198.388016   74.821125     0.0   \n",
       "\n",
       "             M_stars     x_hydro     y_hydro     z_hydro  \n",
       "0       1.689195e+11  163.042391   83.221234  179.359734  \n",
       "1       1.567598e+11  253.252859  199.115406  227.312312  \n",
       "2       1.215231e+11  151.954688   44.607535  157.211750  \n",
       "3       1.862292e+11   51.543066  224.303188   70.242992  \n",
       "4       1.768937e+11  297.516219  164.154078  148.116297  \n",
       "...              ...         ...         ...         ...  \n",
       "139679  0.000000e+00   96.711914  272.890500  212.572469  \n",
       "139680  0.000000e+00  192.384453  235.359594  185.523047  \n",
       "139681  0.000000e+00    9.590183    7.409898  216.022859  \n",
       "139682  0.000000e+00  146.562938   15.558385  180.208641  \n",
       "139683  0.000000e+00  163.225016  198.377844   74.775758  \n",
       "\n",
       "[139684 rows x 27 columns]"
      ]
     },
     "execution_count": 30,
     "metadata": {},
     "output_type": "execute_result"
    }
   ],
   "source": [
    "hydro_merged_df"
   ]
  },
  {
   "cell_type": "code",
   "execution_count": 31,
   "metadata": {},
   "outputs": [
    {
     "data": {
      "text/plain": [
       "Text(0.5,0,'N galaxies')"
      ]
     },
     "execution_count": 31,
     "metadata": {},
     "output_type": "execute_result"
    },
    {
     "data": {
      "image/png": "[encoded data removed]",
      "text/plain": [
       "<Figure size 432x288 with 1 Axes>"
      ]
     },
     "metadata": {},
     "output_type": "display_data"
    }
   ],
   "source": [
    "plt.hist(hydro_merged_df.N_gals, log = True)\n",
    "plt.xlabel('N galaxies')"
   ]
  },
  {
   "cell_type": "code",
   "execution_count": 32,
   "metadata": {},
   "outputs": [],
   "source": [
    "n_centrals = hydro_merged_df.N_gals > 0\n",
    "n_satellites = np.where(hydro_merged_df.N_gals > 0, hydro_merged_df.N_gals - 1, 0)"
   ]
  },
  {
   "cell_type": "code",
   "execution_count": 33,
   "metadata": {},
   "outputs": [],
   "source": [
    "nbins= 20\n",
    "bins = np.logspace(np.log10(np.min(hydro_merged_df.M200c)),\n",
    "                   np.log10(np.max(hydro_merged_df.M200c)), nbins+1)\n",
    "\n",
    "bin_centers = (bins[1:]+bins[:-1])/2.\n",
    "\n",
    "\n",
    "n_centrals_binned, edges, _ = binned_statistic(hydro_merged_df.M200c,\n",
    "                                    n_centrals,\n",
    "                                    statistic = 'mean',\n",
    "                                    bins=bins)\n",
    "\n",
    "n_centrals_error, edges, _ = binned_statistic(hydro_merged_df.M200c,\n",
    "                                    n_centrals, \n",
    "                                    statistic = 'std',\n",
    "                                    bins=bins)"
   ]
  },
  {
   "cell_type": "code",
   "execution_count": 34,
   "metadata": {},
   "outputs": [],
   "source": [
    "n_satellites_binned, edges, _ = binned_statistic(hydro_merged_df.M200c, \n",
    "                                    n_satellites,\n",
    "                                    statistic = 'mean',\n",
    "                                    bins=bins)\n",
    "\n",
    "n_satellites_error, edges, _ = binned_statistic(hydro_merged_df.M200c,\n",
    "                                    n_satellites, \n",
    "                                    statistic = 'std',\n",
    "                                    bins=bins)"
   ]
  },
  {
   "cell_type": "code",
   "execution_count": 35,
   "metadata": {},
   "outputs": [
    {
     "data": {
      "text/plain": [
       "<matplotlib.legend.Legend at 0x2b146becf6d8>"
      ]
     },
     "execution_count": 35,
     "metadata": {},
     "output_type": "execute_result"
    },
    {
     "data": {
      "image/png": "[encoded data removed]",
      "text/plain": [
       "<Figure size 432x288 with 1 Axes>"
      ]
     },
     "metadata": {},
     "output_type": "display_data"
    }
   ],
   "source": [
    "fig = plt.figure()\n",
    "ax = plt.axes()\n",
    "ax.plot((edges[1:]+edges[:-1])/2.,\n",
    "           n_centrals_binned, #yerr = n_centrals_error, \n",
    "        color='orange', marker='o',markersize=3,\n",
    "           label = 'centrals')\n",
    "\n",
    "ax.plot((edges[1:]+edges[:-1])/2.,\n",
    "           n_satellites_binned, #yerr = n_satellites_error, \n",
    "             color='royalblue', marker='o',markersize=3,\n",
    "        label = 'satellites')\n",
    "\n",
    "\n",
    "\n",
    "ax.set_xscale(\"log\")\n",
    "ax.set_yscale(\"log\")\n",
    "\n",
    "ax.set_ylabel('Number of galaxies')\n",
    "ax.set_xlabel(r'$M_{200c}$')\n",
    "ax.set_ylim(1e-1)\n",
    "plt.legend()"
   ]
  },
  {
   "cell_type": "code",
   "execution_count": null,
   "metadata": {},
   "outputs": [],
   "source": []
  }
 ],
 "metadata": {
  "kernelspec": {
   "display_name": "Python 3",
   "language": "python",
   "name": "python3"
  },
  "language_info": {
   "codemirror_mode": {
    "name": "ipython",
    "version": 3
   },
   "file_extension": ".py",
   "mimetype": "text/x-python",
   "name": "python",
   "nbconvert_exporter": "python",
   "pygments_lexer": "ipython3",
   "version": "3.6.2"
  }
 },
 "nbformat": 4,
 "nbformat_minor": 2
}
